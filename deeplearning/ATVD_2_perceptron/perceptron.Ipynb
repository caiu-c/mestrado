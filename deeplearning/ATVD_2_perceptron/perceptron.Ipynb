{
 "cells": [
  {
   "cell_type": "markdown",
   "id": "a7047104",
   "metadata": {},
   "source": [
    "```markdown\n",
    "# Introdução aos Perceptrons\n",
    "\n",
    "Este material faz parte das atividades da disciplina de **Deep Learning** do **Programa de Pós-Graduação em Ciência da Computação (PPGCC)**.\n",
    "\n",
    "## O que é um Perceptron?\n",
    "\n",
    "O perceptron é um modelo matemático inspirado no funcionamento dos neurônios biológicos, sendo um dos primeiros algoritmos de aprendizado de máquina desenvolvidos. Ele é a base para redes neurais mais complexas e é utilizado para resolver problemas de classificação linear.\n",
    "\n",
    "### Estrutura do Perceptron\n",
    "\n",
    "Um perceptron consiste em:\n",
    "\n",
    "- **Entradas**: Representam os dados de entrada do modelo.\n",
    "- **Pesos**: Cada entrada possui um peso associado que determina sua importância.\n",
    "- **Função de soma**: Calcula a soma ponderada das entradas.\n",
    "- **Função de ativação**: Aplica uma transformação à soma ponderada para produzir a saída.\n",
    "\n",
    "### Funcionamento\n",
    "\n",
    "1. Multiplica-se cada entrada pelo seu peso correspondente.\n",
    "2. Soma-se os valores ponderados.\n",
    "3. Aplica-se a função de ativação para determinar a saída final.\n",
    "\n",
    "O perceptron é capaz de aprender ajustando os pesos com base nos erros cometidos durante o treinamento, utilizando o algoritmo de aprendizado supervisionado.\n",
    "\n",
    "---\n",
    "\n",
    "Nos próximos passos, exploraremos como implementar um perceptron e entender suas limitações, como a incapacidade de resolver problemas não linearmente separáveis.\n",
    "```"
   ]
  },
  {
   "cell_type": "code",
   "execution_count": null,
   "id": "15299100",
   "metadata": {
    "vscode": {
     "languageId": "markdown"
    }
   },
   "outputs": [],
   "source": [
    "# Introdução aos Perceptrons\n",
    "\n",
    "Este material faz parte das atividades da disciplina de **Deep Learning** do **Programa de Pós-Graduação em Ciência da Computação (PPGCC)**.\n",
    "\n",
    "## O que é um Perceptron?\n",
    "\n",
    "O perceptron é um modelo matemático inspirado no funcionamento dos neurônios biológicos, sendo um dos primeiros algoritmos de aprendizado de máquina desenvolvidos. Ele é a base para redes neurais mais complexas e é utilizado para resolver problemas de classificação linear.\n",
    "\n",
    "### Estrutura do Perceptron\n",
    "\n",
    "Um perceptron consiste em:\n",
    "\n",
    "- **Entradas**: Representam os dados de entrada do modelo.\n",
    "- **Pesos**: Cada entrada possui um peso associado que determina sua importância.\n",
    "- **Função de soma**: Calcula a soma ponderada das entradas.\n",
    "- **Função de ativação**: Aplica uma transformação à soma ponderada para produzir a saída.\n",
    "\n",
    "![Estrutura do Perceptron](./imagens/neurônioxmodel.jpg)\n",
    "\n",
    "### Funcionamento\n",
    "\n",
    "1. Multiplica-se cada entrada pelo seu peso correspondente.\n",
    "2. Soma-se os valores ponderados.\n",
    "3. Aplica-se a função de ativação para determinar a saída final.\n",
    "\n",
    "O perceptron é capaz de aprender ajustando os pesos com base nos erros cometidos durante o treinamento, utilizando o algoritmo de aprendizado supervisionado.\n",
    "\n",
    "![Funcionamento do Perceptron](./imagens/w_update.jpg)\n",
    "\n",
    "---\n",
    "\n",
    "Nos próximos passos, exploraremos como implementar um perceptron e entender suas limitações, como a incapacidade de resolver problemas não linearmente separáveis."
   ]
  }
 ],
 "metadata": {
  "language_info": {
   "name": "python"
  }
 },
 "nbformat": 4,
 "nbformat_minor": 5
}
